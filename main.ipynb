{
 "cells": [
  {
   "cell_type": "code",
   "execution_count": 22,
   "id": "ab2347bf",
   "metadata": {},
   "outputs": [],
   "source": [
    "import rasterio\n",
    "from rasterio.transform import rowcol\n",
    "from pyproj import Transformer"
   ]
  },
  {
   "cell_type": "code",
   "execution_count": 23,
   "id": "d8742262",
   "metadata": {},
   "outputs": [],
   "source": [
    "hennepin = rasterio.open(\"output2.tif\")\n",
    "green = rasterio.open(\"green.tif\")\n"
   ]
  },
  {
   "cell_type": "code",
   "execution_count": 24,
   "id": "8c0ed625",
   "metadata": {},
   "outputs": [
    {
     "data": {
      "text/plain": [
       "{'driver': 'GTiff',\n",
       " 'dtype': 'float64',\n",
       " 'nodata': 0.0,\n",
       " 'width': 10130,\n",
       " 'height': 11032,\n",
       " 'count': 1,\n",
       " 'crs': CRS.from_wkt('PROJCS[\"WGS 84 / UTM zone 15N\",GEOGCS[\"WGS 84\",DATUM[\"WGS_1984\",SPHEROID[\"WGS 84\",6378137,298.257223563,AUTHORITY[\"EPSG\",\"7030\"]],AUTHORITY[\"EPSG\",\"6326\"]],PRIMEM[\"Greenwich\",0,AUTHORITY[\"EPSG\",\"8901\"]],UNIT[\"degree\",0.0174532925199433,AUTHORITY[\"EPSG\",\"9122\"]],AUTHORITY[\"EPSG\",\"4326\"]],PROJECTION[\"Transverse_Mercator\"],PARAMETER[\"latitude_of_origin\",0],PARAMETER[\"central_meridian\",-93],PARAMETER[\"scale_factor\",0.9996],PARAMETER[\"false_easting\",500000],PARAMETER[\"false_northing\",0],UNIT[\"metre\",1,AUTHORITY[\"EPSG\",\"9001\"]],AXIS[\"Easting\",EAST],AXIS[\"Northing\",NORTH],AUTHORITY[\"EPSG\",\"32615\"]]'),\n",
       " 'transform': Affine(10.0, 0.0, 419960.0,\n",
       "        0.0, -10.0, 5029750.0)}"
      ]
     },
     "execution_count": 24,
     "metadata": {},
     "output_type": "execute_result"
    }
   ],
   "source": [
    "hennepin.meta"
   ]
  },
  {
   "cell_type": "code",
   "execution_count": 25,
   "id": "cec168a2",
   "metadata": {},
   "outputs": [],
   "source": [
    "h_to_wgs84 = Transformer.from_crs(hennepin.crs, \"EPSG:4326\", always_xy=True)\n",
    "h_from_wgs84 = Transformer.from_crs(\"EPSG:4326\", hennepin.crs, always_xy=True)\n",
    "\n",
    "g_to_wgs84 = Transformer.from_crs(green.crs, \"EPSG:4326\", always_xy=True)\n",
    "g_from_wgs84 = Transformer.from_crs(\"EPSG:4326\", green.crs, always_xy=True)"
   ]
  },
  {
   "cell_type": "code",
   "execution_count": 26,
   "id": "1d6c828a",
   "metadata": {},
   "outputs": [],
   "source": [
    "h_band = hennepin.read(1)\n",
    "g_band = green.read(1)"
   ]
  },
  {
   "cell_type": "markdown",
   "id": "be7f03bf",
   "metadata": {},
   "source": [
    "First we define the bounding box, which is the same bounding box of the green space band."
   ]
  },
  {
   "cell_type": "markdown",
   "id": "cd817be7",
   "metadata": {},
   "source": [
    "Now we write some code that gets a random acre inside the bounding box."
   ]
  },
  {
   "cell_type": "code",
   "execution_count": 27,
   "id": "a632caab",
   "metadata": {},
   "outputs": [],
   "source": [
    "import numpy as np\n",
    "\n",
    "ACRE_EDGE_METERS = 63.6149353533\n",
    "DEGREES_PER_METER = 8.983e-6"
   ]
  },
  {
   "cell_type": "code",
   "execution_count": 28,
   "id": "693741c8",
   "metadata": {},
   "outputs": [],
   "source": [
    "# Very green area: (np.float32(23.872145), np.float64(8.207601746116067)) OR 3668.7333532301463\n",
    "# Very red area: (np.float32(0.0), np.float64(8.36240856826096)) OR 4282.99824673542"
   ]
  },
  {
   "cell_type": "code",
   "execution_count": 29,
   "id": "e3923f4f",
   "metadata": {},
   "outputs": [],
   "source": [
    "def generate_point():\n",
    "    lat = np.random.uniform(\n",
    "        green.bounds.bottom + ACRE_EDGE_METERS * DEGREES_PER_METER, \n",
    "        green.bounds.top\n",
    "    )\n",
    "\n",
    "    lon = np.random.uniform(\n",
    "        green.bounds.left, \n",
    "        green.bounds.right - ACRE_EDGE_METERS * DEGREES_PER_METER\n",
    "    )\n",
    "    return lat, lon\n",
    "\n",
    "def generate_window(region, from_wsg84, lon, lat):\n",
    "    x, y = from_wsg84.transform(lon, lat)\n",
    "    row_min, col_min = rowcol(region.transform, x, y)\n",
    "\n",
    "    # Bottom right for green\n",
    "    x, y = from_wsg84.transform(lon + ACRE_EDGE_METERS * DEGREES_PER_METER, lat - ACRE_EDGE_METERS * DEGREES_PER_METER)\n",
    "    row_max, col_max = rowcol(region.transform, x, y)\n",
    "    window = Window(col_off=col_min, row_off=row_min, width=col_max-col_min+1, height=row_max-row_min+1)\n",
    "\n",
    "    return window"
   ]
  },
  {
   "cell_type": "code",
   "execution_count": 30,
   "id": "f8ca96de",
   "metadata": {},
   "outputs": [],
   "source": [
    "data = {\n",
    "    \"heat\": [],\n",
    "    \"green\": []\n",
    "}\n",
    "\n",
    "for i in range(5000):\n",
    "    \n",
    "    # Generate random coordinates\n",
    "    lat, lon = generate_point()\n",
    "\n",
    "    # Get windows\n",
    "    green_window = generate_window(green, g_from_wgs84, lon, lat)\n",
    "    heat_window = generate_window(hennepin, h_from_wgs84, lon, lat)\n",
    "\n",
    "    green_data = green.read(1, window=green_window)\n",
    "    heat_data = hennepin.read(1, window=heat_window)\n",
    "\n",
    "    if not np.all(green_data.sum()) or not np.isfinite(heat_data.sum()):\n",
    "        continue\n",
    "\n",
    "    data[\"heat\"].append(heat_data.sum())\n",
    "    data[\"green\"].append(green_data.sum())"
   ]
  },
  {
   "cell_type": "code",
   "execution_count": 31,
   "id": "59fd0830",
   "metadata": {},
   "outputs": [],
   "source": [
    "import pandas as pd\n",
    "\n",
    "df = pd.DataFrame(data)"
   ]
  },
  {
   "cell_type": "code",
   "execution_count": 32,
   "id": "70b8e2de",
   "metadata": {},
   "outputs": [
    {
     "data": {
      "text/plain": [
       "heat     4915.061448\n",
       "green      31.067452\n",
       "dtype: float64"
      ]
     },
     "execution_count": 32,
     "metadata": {},
     "output_type": "execute_result"
    }
   ],
   "source": [
    "df.max() - df.min()"
   ]
  },
  {
   "cell_type": "code",
   "execution_count": 33,
   "id": "7ffc551a",
   "metadata": {},
   "outputs": [
    {
     "data": {
      "text/plain": [
       "<seaborn.axisgrid.FacetGrid at 0x12a7c0050>"
      ]
     },
     "execution_count": 33,
     "metadata": {},
     "output_type": "execute_result"
    },
    {
     "data": {
      "image/png": "[encoded data removed]",
      "text/plain": [
       "<Figure size 500x500 with 1 Axes>"
      ]
     },
     "metadata": {},
     "output_type": "display_data"
    }
   ],
   "source": [
    "import matplotlib.pyplot as plt\n",
    "import seaborn as sns\n",
    "\n",
    "sns.displot(data=df, x='heat')"
   ]
  },
  {
   "cell_type": "code",
   "execution_count": 34,
   "id": "8268c321",
   "metadata": {},
   "outputs": [],
   "source": [
    "# infile = \"output.tif\"\n",
    "# outfile = \"output2.tif\"\n",
    "# new_nodata = 0.0  # Or 0, or np.nan depending on your workflow\n",
    "\n",
    "# with rasterio.open(infile) as src:\n",
    "#     profile = src.profile.copy()\n",
    "#     data = src.read(1)  # first band\n",
    "\n",
    "#     # Replace nodata values\n",
    "#     nodata = src.nodata\n",
    "#     data[data == nodata] = new_nodata\n",
    "\n",
    "#     # Update profile\n",
    "#     profile.update(nodata=new_nodata)\n",
    "\n",
    "#     # Write out new file\n",
    "#     with rasterio.open(outfile, \"w\", **profile) as dst:\n",
    "#         dst.write(data, 1)"
   ]
  }
 ],
 "metadata": {
  "kernelspec": {
   "display_name": "greenalysis",
   "language": "python",
   "name": "python3"
  },
  "language_info": {
   "codemirror_mode": {
    "name": "ipython",
    "version": 3
   },
   "file_extension": ".py",
   "mimetype": "text/x-python",
   "name": "python",
   "nbconvert_exporter": "python",
   "pygments_lexer": "ipython3",
   "version": "3.13.5"
  }
 },
 "nbformat": 4,
 "nbformat_minor": 5
}
