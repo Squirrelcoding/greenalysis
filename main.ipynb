{
 "cells": [
  {
   "cell_type": "code",
   "execution_count": 36,
   "id": "ab2347bf",
   "metadata": {},
   "outputs": [],
   "source": [
    "import rasterio\n",
    "from rasterio.transform import rowcol\n",
    "from pyproj import Transformer"
   ]
  },
  {
   "cell_type": "code",
   "execution_count": 50,
   "id": "d8742262",
   "metadata": {},
   "outputs": [],
   "source": [
    "hennepin = rasterio.open(\"hennepin.tif\")\n",
    "green = rasterio.open(\"green.tif\")"
   ]
  },
  {
   "cell_type": "code",
   "execution_count": null,
   "id": "cec168a2",
   "metadata": {},
   "outputs": [],
   "source": [
    "h_to_wgs84 = Transformer.from_crs(hennepin.crs, \"EPSG:4326\", always_xy=True)\n",
    "h_from_wgs84 = Transformer.from_crs(\"EPSG:4326\", hennepin.crs, always_xy=True)\n",
    "\n",
    "g_to_wgs84 = Transformer.from_crs(green.crs, \"EPSG:4326\", always_xy=True)\n",
    "g_from_wgs84 = Transformer.from_crs(\"EPSG:4326\", green.crs, always_xy=True)"
   ]
  },
  {
   "cell_type": "code",
   "execution_count": null,
   "id": "6d551fa1",
   "metadata": {},
   "outputs": [
    {
     "name": "stdout",
     "output_type": "stream",
     "text": [
      "Raster CRS coords: 481443.0518397875 4971103.026281724\n",
      "Pixel indices: 5864 6148\n",
      "| 0.00, 0.00,-93.33|\n",
      "| 0.00,-0.00, 45.00|\n",
      "| 0.00, 0.00, 1.00|\n",
      "481443.0518397875 4971103.026281724\n",
      "Pixel indices: 1157 1033\n"
     ]
    }
   ],
   "source": [
    "lat, lon = 44.893108, -93.235012\n",
    "\n",
    "x, y = h_from_wgs84.transform(lon, lat)\n",
    "gx, gy = g_from_wgs84.transform(lon, lat)\n",
    "\n",
    "row, col = rowcol(hennepin.transform, x, y)\n",
    "grow, gcol = rowcol(green.transform, gx, gy)"
   ]
  },
  {
   "cell_type": "code",
   "execution_count": 86,
   "id": "1d6c828a",
   "metadata": {},
   "outputs": [],
   "source": [
    "h_band = hennepin.read(1)\n",
    "g_band = green.read(1)"
   ]
  }
 ],
 "metadata": {
  "kernelspec": {
   "display_name": "greenalysis",
   "language": "python",
   "name": "python3"
  },
  "language_info": {
   "codemirror_mode": {
    "name": "ipython",
    "version": 3
   },
   "file_extension": ".py",
   "mimetype": "text/x-python",
   "name": "python",
   "nbconvert_exporter": "python",
   "pygments_lexer": "ipython3",
   "version": "3.13.5"
  }
 },
 "nbformat": 4,
 "nbformat_minor": 5
}
