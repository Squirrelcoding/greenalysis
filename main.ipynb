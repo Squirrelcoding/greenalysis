{
 "cells": [
  {
   "cell_type": "code",
   "execution_count": 1,
   "id": "ab2347bf",
   "metadata": {},
   "outputs": [],
   "source": [
    "import rasterio\n",
    "from rasterio.transform import rowcol\n",
    "from pyproj import Transformer"
   ]
  },
  {
   "cell_type": "code",
   "execution_count": 2,
   "id": "d8742262",
   "metadata": {},
   "outputs": [],
   "source": [
    "hennepin = rasterio.open(\"hennepin.tif\")\n",
    "green = rasterio.open(\"green.tif\")"
   ]
  },
  {
   "cell_type": "code",
   "execution_count": 3,
   "id": "cec168a2",
   "metadata": {},
   "outputs": [],
   "source": [
    "h_to_wgs84 = Transformer.from_crs(hennepin.crs, \"EPSG:4326\", always_xy=True)\n",
    "h_from_wgs84 = Transformer.from_crs(\"EPSG:4326\", hennepin.crs, always_xy=True)\n",
    "\n",
    "g_to_wgs84 = Transformer.from_crs(green.crs, \"EPSG:4326\", always_xy=True)\n",
    "g_from_wgs84 = Transformer.from_crs(\"EPSG:4326\", green.crs, always_xy=True)"
   ]
  },
  {
   "cell_type": "code",
   "execution_count": 5,
   "id": "1d6c828a",
   "metadata": {},
   "outputs": [],
   "source": [
    "h_band = hennepin.read(1)\n",
    "g_band = green.read(1)"
   ]
  },
  {
   "cell_type": "markdown",
   "id": "be7f03bf",
   "metadata": {},
   "source": [
    "First we define the bounding box, which is the same bounding box of the green space band."
   ]
  },
  {
   "cell_type": "markdown",
   "id": "cd817be7",
   "metadata": {},
   "source": [
    "Now we write some code that gets a random acre inside the bounding box."
   ]
  },
  {
   "cell_type": "code",
   "execution_count": null,
   "id": "a632caab",
   "metadata": {},
   "outputs": [],
   "source": [
    "import numpy as np\n",
    "\n",
    "ACRE_EDGE_METERS = 63.6149353533\n",
    "DEGREES_PER_METER = 8.983e-6"
   ]
  },
  {
   "cell_type": "code",
   "execution_count": null,
   "id": "8ac24a18",
   "metadata": {},
   "outputs": [],
   "source": [
    "# Get the indices for everything\n",
    "\n",
    "# Top left for green\n"
   ]
  },
  {
   "cell_type": "code",
   "execution_count": 83,
   "id": "b5728284",
   "metadata": {},
   "outputs": [],
   "source": [
    "from rasterio.windows import Window\n",
    "green_window = Window(col_off=g_col_min, row_off=g_row_min, width=g_col_max-g_col_min+1, height=g_row_max-g_row_min+1)\n",
    "heat_window = Window(col_off=h_col_min, row_off=h_row_min, width=h_col_max-h_col_min+1, height=h_row_max-h_row_min+1)\n"
   ]
  },
  {
   "cell_type": "code",
   "execution_count": 84,
   "id": "ebaf05e8",
   "metadata": {},
   "outputs": [],
   "source": [
    "green_data = green.read(1, window=green_window)\n",
    "heat_data = hennepin.read(1, window=heat_window)"
   ]
  },
  {
   "cell_type": "code",
   "execution_count": 85,
   "id": "ad8d2089",
   "metadata": {},
   "outputs": [
    {
     "data": {
      "text/plain": [
       "(7, 8)"
      ]
     },
     "execution_count": 85,
     "metadata": {},
     "output_type": "execute_result"
    }
   ],
   "source": [
    "green_data.shape"
   ]
  },
  {
   "cell_type": "code",
   "execution_count": 86,
   "id": "11a0c755",
   "metadata": {},
   "outputs": [
    {
     "data": {
      "text/plain": [
       "(7, 6)"
      ]
     },
     "execution_count": 86,
     "metadata": {},
     "output_type": "execute_result"
    }
   ],
   "source": [
    "heat_data.shape"
   ]
  },
  {
   "cell_type": "code",
   "execution_count": 87,
   "id": "be4b65ca",
   "metadata": {},
   "outputs": [
    {
     "data": {
      "text/plain": [
       "(np.float32(23.872145), np.float64(3668.7333532301463))"
      ]
     },
     "execution_count": 87,
     "metadata": {},
     "output_type": "execute_result"
    }
   ],
   "source": [
    "green_data.sum(), heat_data.sum()"
   ]
  },
  {
   "cell_type": "code",
   "execution_count": null,
   "id": "693741c8",
   "metadata": {},
   "outputs": [],
   "source": [
    "# Very green area: (np.float32(23.872145), np.float64(8.207601746116067)) OR 3668.7333532301463\n",
    "# Very red area: (np.float32(0.0), np.float64(8.36240856826096)) OR 4282.99824673542"
   ]
  },
  {
   "cell_type": "code",
   "execution_count": 92,
   "id": "e3923f4f",
   "metadata": {},
   "outputs": [],
   "source": [
    "def generate_point():\n",
    "    lat = np.random.uniform(\n",
    "        green.bounds.bottom + ACRE_EDGE_METERS * DEGREES_PER_METER, \n",
    "        green.bounds.top\n",
    "    )\n",
    "\n",
    "    lon = np.random.uniform(\n",
    "        green.bounds.left, \n",
    "        green.bounds.right - ACRE_EDGE_METERS * DEGREES_PER_METER\n",
    "    )\n",
    "    return lat, lon\n",
    "\n",
    "def generate_window(region, from_wsg84, lon, lat):\n",
    "    x, y = from_wsg84.transform(lon, lat)\n",
    "    row_min, col_min = rowcol(region.transform, x, y)\n",
    "\n",
    "    # Bottom right for green\n",
    "    x, y = from_wsg84.transform(lon + ACRE_EDGE_METERS * DEGREES_PER_METER, lat - ACRE_EDGE_METERS * DEGREES_PER_METER)\n",
    "    row_max, col_max = rowcol(region.transform, x, y)\n",
    "    window = Window(col_off=col_min, row_off=row_min, width=col_max-col_min+1, height=row_max-row_min+1)\n",
    "\n",
    "    return window"
   ]
  },
  {
   "cell_type": "code",
   "execution_count": null,
   "id": "f8ca96de",
   "metadata": {},
   "outputs": [],
   "source": [
    "data = {\n",
    "    \"heat\": [],\n",
    "    \"green\": []\n",
    "}\n",
    "\n",
    "for i in range(10):\n",
    "    \n",
    "    # Generate random coordinates\n",
    "    lat, lon = generate_point()\n",
    "\n",
    "    # Get windows\n",
    "    green_window = generate_window(green, g_from_wgs84, lon, lat)\n",
    "    heat_window = generate_window(hennepin, h_from_wgs84, lon, lat)\n",
    "\n",
    "    green_data = green.read(1, window=green_window)\n",
    "    heat_data = hennepin.read(1, window=heat_window)\n",
    "\n",
    "    if not np.all(np.isfinite(green_data)) or not np.all(np.isfinite(heat_data)):\n",
    "        continue\n",
    "\n",
    "    \n",
    "    data[\"heat\"].append(heat_data.sum())\n",
    "    data[\"green\"].append(green_data.sum())"
   ]
  },
  {
   "cell_type": "code",
   "execution_count": 103,
   "id": "59fd0830",
   "metadata": {},
   "outputs": [
    {
     "data": {
      "text/plain": [
       "{'heat': [np.float64(3942.9908205653064),\n",
       "  np.float64(3756.3204290298263),\n",
       "  np.float64(4274.721317853295),\n",
       "  np.float64(3316.8631130250365),\n",
       "  np.float64(4111.932943353698),\n",
       "  np.float64(3363.72011425205),\n",
       "  np.float64(4440.580952835472),\n",
       "  np.float64(inf),\n",
       "  np.float64(3104.930930842516),\n",
       "  np.float64(3563.0168511382712)],\n",
       " 'green': [np.float32(5.4049587),\n",
       "  np.float32(10.944492),\n",
       "  np.float32(11.813987),\n",
       "  np.float32(2.1824718),\n",
       "  np.float32(1.5198363),\n",
       "  np.float32(1.1501467),\n",
       "  np.float32(4.8887305),\n",
       "  np.float32(21.845768),\n",
       "  np.float32(17.066011),\n",
       "  np.float32(22.388157)]}"
      ]
     },
     "execution_count": 103,
     "metadata": {},
     "output_type": "execute_result"
    }
   ],
   "source": [
    "data"
   ]
  },
  {
   "cell_type": "code",
   "execution_count": null,
   "id": "7ffc551a",
   "metadata": {},
   "outputs": [],
   "source": []
  }
 ],
 "metadata": {
  "kernelspec": {
   "display_name": "greenalysis",
   "language": "python",
   "name": "python3"
  },
  "language_info": {
   "codemirror_mode": {
    "name": "ipython",
    "version": 3
   },
   "file_extension": ".py",
   "mimetype": "text/x-python",
   "name": "python",
   "nbconvert_exporter": "python",
   "pygments_lexer": "ipython3",
   "version": "3.13.5"
  }
 },
 "nbformat": 4,
 "nbformat_minor": 5
}
