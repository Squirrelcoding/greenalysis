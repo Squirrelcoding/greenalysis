{
 "cells": [
  {
   "cell_type": "code",
   "execution_count": 20,
   "id": "ab2347bf",
   "metadata": {},
   "outputs": [],
   "source": [
    "import rasterio\n",
    "from rasterio.transform import rowcol\n",
    "from pyproj import Transformer"
   ]
  },
  {
   "cell_type": "code",
   "execution_count": 21,
   "id": "d8742262",
   "metadata": {},
   "outputs": [],
   "source": [
    "src = rasterio.open(\"output.tif\")"
   ]
  },
  {
   "cell_type": "code",
   "execution_count": 22,
   "id": "cec168a2",
   "metadata": {},
   "outputs": [],
   "source": [
    "to_wgs84 = Transformer.from_crs(src.crs, \"EPSG:4326\", always_xy=True)\n",
    "from_wgs84 = Transformer.from_crs(\"EPSG:4326\", src.crs, always_xy=True)"
   ]
  },
  {
   "cell_type": "code",
   "execution_count": 23,
   "id": "6d551fa1",
   "metadata": {},
   "outputs": [
    {
     "name": "stdout",
     "output_type": "stream",
     "text": [
      "Raster CRS coords: 498781.4145843305 4947430.6751953345\n",
      "Pixel indices: 8231 7882\n"
     ]
    }
   ],
   "source": [
    "lat, lon = 44.680244, -93.015376\n",
    "\n",
    "x, y = from_wgs84.transform(lon, lat)\n",
    "print(\"Raster CRS coords:\", x, y)\n",
    "\n",
    "row, col = rowcol(src.transform, x, y)\n",
    "print(\"Pixel indices:\", row, col)"
   ]
  },
  {
   "cell_type": "code",
   "execution_count": 26,
   "id": "1d6c828a",
   "metadata": {},
   "outputs": [],
   "source": [
    "band = src.read(1)"
   ]
  },
  {
   "cell_type": "code",
   "execution_count": 27,
   "id": "0269dbfb",
   "metadata": {},
   "outputs": [
    {
     "data": {
      "text/plain": [
       "np.float64(98.57967461080193)"
      ]
     },
     "execution_count": 27,
     "metadata": {},
     "output_type": "execute_result"
    }
   ],
   "source": [
    "band[row, col]"
   ]
  },
  {
   "cell_type": "code",
   "execution_count": null,
   "id": "f0627aa3",
   "metadata": {},
   "outputs": [],
   "source": []
  }
 ],
 "metadata": {
  "kernelspec": {
   "display_name": "greenalysis",
   "language": "python",
   "name": "python3"
  },
  "language_info": {
   "codemirror_mode": {
    "name": "ipython",
    "version": 3
   },
   "file_extension": ".py",
   "mimetype": "text/x-python",
   "name": "python",
   "nbconvert_exporter": "python",
   "pygments_lexer": "ipython3",
   "version": "3.13.5"
  }
 },
 "nbformat": 4,
 "nbformat_minor": 5
}
