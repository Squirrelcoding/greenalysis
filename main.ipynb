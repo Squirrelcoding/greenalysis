{
 "cells": [
  {
   "cell_type": "code",
   "execution_count": 141,
   "id": "ab2347bf",
   "metadata": {},
   "outputs": [],
   "source": [
    "import rasterio\n",
    "from rasterio.transform import rowcol\n",
    "from pyproj import Transformer"
   ]
  },
  {
   "cell_type": "code",
   "execution_count": 142,
   "id": "d8742262",
   "metadata": {},
   "outputs": [],
   "source": [
    "hennepin = rasterio.open(\"hennepin.tif\")\n",
    "green = rasterio.open(\"green.tif\")"
   ]
  },
  {
   "cell_type": "code",
   "execution_count": 143,
   "id": "cec168a2",
   "metadata": {},
   "outputs": [],
   "source": [
    "h_to_wgs84 = Transformer.from_crs(hennepin.crs, \"EPSG:4326\", always_xy=True)\n",
    "h_from_wgs84 = Transformer.from_crs(\"EPSG:4326\", hennepin.crs, always_xy=True)\n",
    "\n",
    "g_to_wgs84 = Transformer.from_crs(green.crs, \"EPSG:4326\", always_xy=True)\n",
    "g_from_wgs84 = Transformer.from_crs(\"EPSG:4326\", green.crs, always_xy=True)"
   ]
  },
  {
   "cell_type": "code",
   "execution_count": 144,
   "id": "6d551fa1",
   "metadata": {},
   "outputs": [],
   "source": [
    "lat, lon = 44.893108, -93.235012\n",
    "\n",
    "x, y = h_from_wgs84.transform(lon, lat)\n",
    "gx, gy = g_from_wgs84.transform(lon, lat)\n",
    "\n",
    "row, col = rowcol(hennepin.transform, x, y)\n",
    "grow, gcol = rowcol(green.transform, gx, gy)"
   ]
  },
  {
   "cell_type": "code",
   "execution_count": 145,
   "id": "1d6c828a",
   "metadata": {},
   "outputs": [],
   "source": [
    "h_band = hennepin.read(1)\n",
    "g_band = green.read(1)"
   ]
  },
  {
   "cell_type": "markdown",
   "id": "be7f03bf",
   "metadata": {},
   "source": [
    "First we define the bounding box, which is the same bounding box of the green space band."
   ]
  },
  {
   "cell_type": "markdown",
   "id": "cd817be7",
   "metadata": {},
   "source": [
    "Now we write some code that gets a random acre inside the bounding box."
   ]
  },
  {
   "cell_type": "code",
   "execution_count": 146,
   "id": "a632caab",
   "metadata": {},
   "outputs": [
    {
     "data": {
      "text/plain": [
       "(44.83348992665804, -93.12937472390509)"
      ]
     },
     "execution_count": 146,
     "metadata": {},
     "output_type": "execute_result"
    }
   ],
   "source": [
    "import numpy as np\n",
    "\n",
    "ACRE_EDGE_METERS = 63.6149353533\n",
    "DEGREES_PER_METER = 8.983e-6\n",
    "\n",
    "lat = np.random.uniform(\n",
    "    green.bounds.bottom + ACRE_EDGE_METERS * DEGREES_PER_METER, \n",
    "    green.bounds.top\n",
    ")\n",
    "\n",
    "lon = np.random.uniform(\n",
    "    green.bounds.left, \n",
    "    green.bounds.right - ACRE_EDGE_METERS * DEGREES_PER_METER\n",
    ")\n",
    "\n",
    "lat, lon"
   ]
  },
  {
   "cell_type": "code",
   "execution_count": 171,
   "id": "8ac24a18",
   "metadata": {},
   "outputs": [],
   "source": [
    "# Get the indices for everything\n",
    "\n",
    "# Top left for green\n",
    "x, y = g_from_wgs84.transform(lon, lat)\n",
    "g_row_min, g_col_min = rowcol(green.transform, x, y)\n",
    "\n",
    "# Bottom right for green\n",
    "x, y = g_from_wgs84.transform(lon + ACRE_EDGE_METERS * DEGREES_PER_METER, lat - ACRE_EDGE_METERS * DEGREES_PER_METER)\n",
    "g_row_max, g_col_max = rowcol(green.transform, x, y)\n",
    "\n",
    "# Top left for hennepin heat map\n",
    "x, y = h_from_wgs84.transform(lon, lat)\n",
    "h_row_min, h_col_min = rowcol(hennepin.transform, x, y)\n",
    "\n",
    "# Bottom right for hennepin heat map\n",
    "x, y = h_from_wgs84.transform(lon + ACRE_EDGE_METERS * DEGREES_PER_METER, lat - ACRE_EDGE_METERS * DEGREES_PER_METER)\n",
    "h_row_max, h_col_max = rowcol(hennepin.transform, x, y)"
   ]
  },
  {
   "cell_type": "code",
   "execution_count": 174,
   "id": "b5728284",
   "metadata": {},
   "outputs": [],
   "source": [
    "from rasterio.windows import Window\n",
    "green_window = Window(col_off=g_col_min, row_off=g_row_min, width=g_col_max-g_col_min+1, height=g_row_max-g_row_min+1)\n",
    "heat_window = Window(col_off=h_col_min, row_off=h_row_min, width=h_col_max-h_col_min+1, height=h_row_max-h_row_min+1)\n"
   ]
  },
  {
   "cell_type": "code",
   "execution_count": 177,
   "id": "ebaf05e8",
   "metadata": {},
   "outputs": [],
   "source": [
    "green_data = green.read(1, window=green_window)\n",
    "heat_data = hennepin.read(1, window=heat_window)"
   ]
  },
  {
   "cell_type": "code",
   "execution_count": 179,
   "id": "ad8d2089",
   "metadata": {},
   "outputs": [
    {
     "data": {
      "text/plain": [
       "(8, 7)"
      ]
     },
     "execution_count": 179,
     "metadata": {},
     "output_type": "execute_result"
    }
   ],
   "source": [
    "green_data.shape"
   ]
  },
  {
   "cell_type": "code",
   "execution_count": 180,
   "id": "11a0c755",
   "metadata": {},
   "outputs": [
    {
     "data": {
      "text/plain": [
       "(8, 5)"
      ]
     },
     "execution_count": 180,
     "metadata": {},
     "output_type": "execute_result"
    }
   ],
   "source": [
    "heat_data.shape"
   ]
  },
  {
   "cell_type": "code",
   "execution_count": null,
   "id": "be4b65ca",
   "metadata": {},
   "outputs": [
    {
     "data": {
      "text/plain": [
       "(<function ndarray.mean>, <function ndarray.mean>)"
      ]
     },
     "execution_count": 181,
     "metadata": {},
     "output_type": "execute_result"
    }
   ],
   "source": [
    "green_data.mean(), heat_data.mean()"
   ]
  },
  {
   "cell_type": "code",
   "execution_count": null,
   "id": "693741c8",
   "metadata": {},
   "outputs": [],
   "source": []
  }
 ],
 "metadata": {
  "kernelspec": {
   "display_name": "greenalysis",
   "language": "python",
   "name": "python3"
  },
  "language_info": {
   "codemirror_mode": {
    "name": "ipython",
    "version": 3
   },
   "file_extension": ".py",
   "mimetype": "text/x-python",
   "name": "python",
   "nbconvert_exporter": "python",
   "pygments_lexer": "ipython3",
   "version": "3.13.5"
  }
 },
 "nbformat": 4,
 "nbformat_minor": 5
}
