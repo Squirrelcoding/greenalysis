{
 "cells": [
  {
   "cell_type": "code",
   "execution_count": 1,
   "id": "ab2347bf",
   "metadata": {},
   "outputs": [],
   "source": [
    "import rasterio\n",
    "from rasterio.transform import rowcol\n",
    "from pyproj import Transformer"
   ]
  },
  {
   "cell_type": "code",
   "execution_count": 2,
   "id": "d8742262",
   "metadata": {},
   "outputs": [],
   "source": [
    "hennepin = rasterio.open(\"output2.tif\")\n",
    "green = rasterio.open(\"green.tif\")\n"
   ]
  },
  {
   "cell_type": "code",
   "execution_count": 3,
   "id": "8c0ed625",
   "metadata": {},
   "outputs": [
    {
     "data": {
      "text/plain": [
       "{'driver': 'GTiff',\n",
       " 'dtype': 'float64',\n",
       " 'nodata': 0.0,\n",
       " 'width': 10130,\n",
       " 'height': 11032,\n",
       " 'count': 1,\n",
       " 'crs': CRS.from_wkt('PROJCS[\"WGS 84 / UTM zone 15N\",GEOGCS[\"WGS 84\",DATUM[\"WGS_1984\",SPHEROID[\"WGS 84\",6378137,298.257223563,AUTHORITY[\"EPSG\",\"7030\"]],AUTHORITY[\"EPSG\",\"6326\"]],PRIMEM[\"Greenwich\",0,AUTHORITY[\"EPSG\",\"8901\"]],UNIT[\"degree\",0.0174532925199433,AUTHORITY[\"EPSG\",\"9122\"]],AUTHORITY[\"EPSG\",\"4326\"]],PROJECTION[\"Transverse_Mercator\"],PARAMETER[\"latitude_of_origin\",0],PARAMETER[\"central_meridian\",-93],PARAMETER[\"scale_factor\",0.9996],PARAMETER[\"false_easting\",500000],PARAMETER[\"false_northing\",0],UNIT[\"metre\",1,AUTHORITY[\"EPSG\",\"9001\"]],AXIS[\"Easting\",EAST],AXIS[\"Northing\",NORTH],AUTHORITY[\"EPSG\",\"32615\"]]'),\n",
       " 'transform': Affine(10.0, 0.0, 419960.0,\n",
       "        0.0, -10.0, 5029750.0)}"
      ]
     },
     "execution_count": 3,
     "metadata": {},
     "output_type": "execute_result"
    }
   ],
   "source": [
    "hennepin.meta"
   ]
  },
  {
   "cell_type": "code",
   "execution_count": 4,
   "id": "cec168a2",
   "metadata": {},
   "outputs": [],
   "source": [
    "h_to_wgs84 = Transformer.from_crs(hennepin.crs, \"EPSG:4326\", always_xy=True)\n",
    "h_from_wgs84 = Transformer.from_crs(\"EPSG:4326\", hennepin.crs, always_xy=True)\n",
    "\n",
    "g_to_wgs84 = Transformer.from_crs(green.crs, \"EPSG:4326\", always_xy=True)\n",
    "g_from_wgs84 = Transformer.from_crs(\"EPSG:4326\", green.crs, always_xy=True)"
   ]
  },
  {
   "cell_type": "code",
   "execution_count": 5,
   "id": "1d6c828a",
   "metadata": {},
   "outputs": [],
   "source": [
    "h_band = hennepin.read(1)\n",
    "g_band = green.read(1)"
   ]
  },
  {
   "cell_type": "markdown",
   "id": "be7f03bf",
   "metadata": {},
   "source": [
    "First we define the bounding box, which is the same bounding box of the green space band."
   ]
  },
  {
   "cell_type": "markdown",
   "id": "cd817be7",
   "metadata": {},
   "source": [
    "Now we write some code that gets a random acre inside the bounding box."
   ]
  },
  {
   "cell_type": "code",
   "execution_count": 6,
   "id": "a632caab",
   "metadata": {},
   "outputs": [],
   "source": [
    "import numpy as np\n",
    "\n",
    "ACRE_EDGE_METERS = 63.6149353533\n",
    "DEGREES_PER_METER = 8.983e-6"
   ]
  },
  {
   "cell_type": "code",
   "execution_count": 7,
   "id": "693741c8",
   "metadata": {},
   "outputs": [],
   "source": [
    "# Very green area: (np.float32(23.872145), np.float64(8.207601746116067)) OR 3668.7333532301463\n",
    "# Very red area: (np.float32(0.0), np.float64(8.36240856826096)) OR 4282.99824673542"
   ]
  },
  {
   "cell_type": "code",
   "execution_count": 8,
   "id": "e3923f4f",
   "metadata": {},
   "outputs": [],
   "source": [
    "from rasterio.windows import Window\n",
    "\n",
    "def generate_point():\n",
    "    lat = np.random.uniform(\n",
    "        green.bounds.bottom + ACRE_EDGE_METERS * DEGREES_PER_METER, \n",
    "        green.bounds.top\n",
    "    )\n",
    "\n",
    "    lon = np.random.uniform(\n",
    "        green.bounds.left, \n",
    "        green.bounds.right - ACRE_EDGE_METERS * DEGREES_PER_METER\n",
    "    )\n",
    "    return lat, lon\n",
    "\n",
    "def generate_window(region, from_wsg84, lon, lat):\n",
    "    x, y = from_wsg84.transform(lon, lat)\n",
    "    row_min, col_min = rowcol(region.transform, x, y)\n",
    "\n",
    "    # Bottom right for green\n",
    "    x, y = from_wsg84.transform(lon + ACRE_EDGE_METERS * DEGREES_PER_METER, lat - ACRE_EDGE_METERS * DEGREES_PER_METER)\n",
    "    row_max, col_max = rowcol(region.transform, x, y)\n",
    "    window = Window(col_off=col_min, row_off=row_min, width=col_max-col_min+1, height=row_max-row_min+1)\n",
    "\n",
    "    return window"
   ]
  },
  {
   "cell_type": "code",
   "execution_count": 9,
   "id": "f8ca96de",
   "metadata": {},
   "outputs": [],
   "source": [
    "data = {\n",
    "    \"heat\": [],\n",
    "    \"green\": []\n",
    "}\n",
    "\n",
    "for i in range(5000):\n",
    "    \n",
    "    # Generate random coordinates\n",
    "    lat, lon = generate_point()\n",
    "\n",
    "    # Get windows\n",
    "    green_window = generate_window(green, g_from_wgs84, lon, lat)\n",
    "    heat_window = generate_window(hennepin, h_from_wgs84, lon, lat)\n",
    "\n",
    "    green_data = green.read(1, window=green_window)\n",
    "    heat_data = hennepin.read(1, window=heat_window)\n",
    "    heat_data = np.nan_to_num(heat_data, nan=0.0, posinf=0.0, neginf=0.0)\n",
    "\n",
    "    if not (np.isfinite(heat_data.sum()) and np.isfinite(green_data.sum())):\n",
    "        print(\"GOT ILLEGAL VALUE\")\n",
    "        continue\n",
    "\n",
    "    data[\"heat\"].append(heat_data.sum())\n",
    "    data[\"green\"].append(green_data.sum())"
   ]
  },
  {
   "cell_type": "code",
   "execution_count": 10,
   "id": "59fd0830",
   "metadata": {},
   "outputs": [],
   "source": [
    "import pandas as pd\n",
    "\n",
    "df = pd.DataFrame(data)"
   ]
  },
  {
   "cell_type": "code",
   "execution_count": 11,
   "id": "70b8e2de",
   "metadata": {},
   "outputs": [
    {
     "data": {
      "text/plain": [
       "heat     4930.471558\n",
       "green      31.405880\n",
       "dtype: float64"
      ]
     },
     "execution_count": 11,
     "metadata": {},
     "output_type": "execute_result"
    }
   ],
   "source": [
    "df.max() - df.min()"
   ]
  },
  {
   "cell_type": "code",
   "execution_count": 12,
   "id": "7ffc551a",
   "metadata": {},
   "outputs": [
    {
     "name": "stderr",
     "output_type": "stream",
     "text": [
      "/Users/propoop/Code/greenalysis/greenalysis/.venv/lib/python3.13/site-packages/pandas/core/arraylike.py:399: RuntimeWarning: divide by zero encountered in log\n",
      "  result = getattr(ufunc, method)(*inputs, **kwargs)\n"
     ]
    },
    {
     "data": {
      "text/plain": [
       "<seaborn.axisgrid.FacetGrid at 0x12c9917f0>"
      ]
     },
     "execution_count": 12,
     "metadata": {},
     "output_type": "execute_result"
    },
    {
     "data": {
      "image/png": "[encoded data removed]",
      "text/plain": [
       "<Figure size 500x500 with 1 Axes>"
      ]
     },
     "metadata": {},
     "output_type": "display_data"
    }
   ],
   "source": [
    "import matplotlib.pyplot as plt\n",
    "import seaborn as sns\n",
    "\n",
    "standardized = df\n",
    "\n",
    "standardized['heat'] = np.log(df['heat'])\n",
    "sns.displot(data=standardized, x='green')"
   ]
  },
  {
   "cell_type": "code",
   "execution_count": 17,
   "id": "2a204a0c",
   "metadata": {},
   "outputs": [
    {
     "name": "stdout",
     "output_type": "stream",
     "text": [
      "                            OLS Regression Results                            \n",
      "==============================================================================\n",
      "Dep. Variable:                      y   R-squared:                       0.002\n",
      "Model:                            OLS   Adj. R-squared:                  0.001\n",
      "Method:                 Least Squares   F-statistic:                     7.721\n",
      "Date:                Mon, 08 Sep 2025   Prob (F-statistic):            0.00548\n",
      "Time:                        02:08:00   Log-Likelihood:                -2129.1\n",
      "No. Observations:                4783   AIC:                             4262.\n",
      "Df Residuals:                    4781   BIC:                             4275.\n",
      "Df Model:                           1                                         \n",
      "Covariance Type:            nonrobust                                         \n",
      "==============================================================================\n",
      "                 coef    std err          t      P>|t|      [0.025      0.975]\n",
      "------------------------------------------------------------------------------\n",
      "const          8.1907      0.009    922.023      0.000       8.173       8.208\n",
      "x1            -0.0025      0.001     -2.779      0.005      -0.004      -0.001\n",
      "==============================================================================\n",
      "Omnibus:                     5588.422   Durbin-Watson:                   2.008\n",
      "Prob(Omnibus):                  0.000   Jarque-Bera (JB):           482391.118\n",
      "Skew:                          -6.277   Prob(JB):                         0.00\n",
      "Kurtosis:                      50.570   Cond. No.                         16.0\n",
      "==============================================================================\n",
      "\n",
      "Notes:\n",
      "[1] Standard Errors assume that the covariance matrix of the errors is correctly specified.\n"
     ]
    }
   ],
   "source": [
    "import statsmodels.api as sm\n",
    "import numpy as np\n",
    "\n",
    "# Convert data to arrays\n",
    "X = np.array(df[\"green\"]).reshape(-1, 1)\n",
    "y = np.array(df[\"heat\"])\n",
    "\n",
    "# Remove bad values\n",
    "mask = np.isfinite(X).flatten() & np.isfinite(y)\n",
    "X = X[mask]\n",
    "y = y[mask]\n",
    "\n",
    "# Add constant term for intercept\n",
    "X = sm.add_constant(X)\n",
    "\n",
    "# Fit OLS model\n",
    "model = sm.OLS(y, X)\n",
    "results = model.fit()\n",
    "\n",
    "# Print summary with p-values\n",
    "print(results.summary())\n"
   ]
  },
  {
   "cell_type": "code",
   "execution_count": 14,
   "id": "8268c321",
   "metadata": {},
   "outputs": [],
   "source": [
    "# infile = \"output.tif\"\n",
    "# outfile = \"output2.tif\"\n",
    "# new_nodata = 0.0  # Or 0, or np.nan depending on your workflow\n",
    "\n",
    "# with rasterio.open(infile) as src:\n",
    "#     profile = src.profile.copy()\n",
    "#     data = src.read(1)  # first band\n",
    "\n",
    "#     # Replace nodata values\n",
    "#     nodata = src.nodata\n",
    "#     data[data == nodata] = new_nodata\n",
    "\n",
    "#     # Update profile\n",
    "#     profile.update(nodata=new_nodata)\n",
    "\n",
    "#     # Write out new file\n",
    "#     with rasterio.open(outfile, \"w\", **profile) as dst:\n",
    "#         dst.write(data, 1)"
   ]
  }
 ],
 "metadata": {
  "kernelspec": {
   "display_name": "greenalysis",
   "language": "python",
   "name": "python3"
  },
  "language_info": {
   "codemirror_mode": {
    "name": "ipython",
    "version": 3
   },
   "file_extension": ".py",
   "mimetype": "text/x-python",
   "name": "python",
   "nbconvert_exporter": "python",
   "pygments_lexer": "ipython3",
   "version": "3.13.5"
  }
 },
 "nbformat": 4,
 "nbformat_minor": 5
}
