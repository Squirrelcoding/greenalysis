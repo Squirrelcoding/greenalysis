{
 "cells": [
  {
   "cell_type": "code",
   "execution_count": null,
   "id": "fe4c6468-156d-4157-ac8d-7fceb36e8c3c",
   "metadata": {},
   "outputs": [],
   "source": []
  }
 ],
 "metadata": {
  "kernelspec": {
   "display_name": "",
   "name": ""
  },
  "language_info": {
   "name": ""
  }
 },
 "nbformat": 4,
 "nbformat_minor": 5
}
